{
 "cells": [
  {
   "cell_type": "code",
   "execution_count": 1,
   "metadata": {
    "ExecuteTime": {
     "end_time": "2018-03-02T17:23:19.717417Z",
     "start_time": "2018-03-02T17:23:19.556423Z"
    },
    "scrolled": true
   },
   "outputs": [
    {
     "name": "stdout",
     "output_type": "stream",
     "text": [
      "!\"#$%&'()*+,./:;<=>?@[\\]^_`{|}~—„“»«\n"
     ]
    }
   ],
   "source": [
    "import requests\n",
    "import string\n",
    "from pprint import pprint\n",
    "import re\n",
    "import os\n",
    "import tempfile\n",
    "from bs4 import BeautifulSoup\n",
    "from collections import Counter, OrderedDict\n",
    "from operator import itemgetter\n",
    "import numpy as np\n",
    "hookRegex = re.compile(r'\\[.*\\]')\n",
    "tireRegex = re.compile(r' -')\n",
    "chars_to_remove = string.punctuation.replace('-', '') + '—„“»«'\n",
    "print(chars_to_remove)\n",
    "api_url = 'http://api.genius.com'\n",
    "base_url = 'http://genius.com'\n",
    "headers = {'Authorization': 'Bearer ' + open('./.bearer_token.txt', 'r').read().rstrip('\\n')}"
   ]
  },
  {
   "cell_type": "code",
   "execution_count": 29,
   "metadata": {
    "ExecuteTime": {
     "end_time": "2018-03-02T18:26:33.272472Z",
     "start_time": "2018-03-02T18:26:33.133871Z"
    },
    "scrolled": true
   },
   "outputs": [],
   "source": [
    "def remove_unnecessary(textfile):\n",
    "    return tireRegex.sub('', hookRegex.sub('',textfile).translate(str.maketrans('','',chars_to_remove)))\n",
    "\n",
    "class Artist(object):\n",
    "    \n",
    "    def __init__(self, name):\n",
    "        self.name = name\n",
    "        \n",
    "    artist_id = ''\n",
    "    songlist = []\n",
    "    \n",
    "    def get_artist_id(self):\n",
    "        print(\"Finding the ID of an artist \" + self.name)\n",
    "        search_url = api_url + '/search'\n",
    "        data = {'q': self.name}\n",
    "        response = requests.get(search_url, params=data, headers=headers)\n",
    "        self.artist_id = response.json()['response']['hits'][0]['result']['primary_artist']['api_path']\n",
    "        print(\"ID of an artist \" + self.name + \" is \" + self.artist_id[9:])\n",
    "        with open('./artists_id_list.txt', 'r+') as textfile:\n",
    "            if self.artist_id in textfile.read():\n",
    "                pass\n",
    "            else:\n",
    "                textfile.write(textfile.read() + '\\n' + self.name + \"  -  \" + self.artist_id)\n",
    "        return\n",
    "    #artists/143013/songs?sort=popularity&per_page=50\n",
    "    #artists/143013/songs?sort=popularity&per_page=50&page=3\n",
    "    def get_songlist(self):\n",
    "        list_of_songs = []\n",
    "        print(\"Getting the list of songs\")\n",
    "        for page in range(1,4):\n",
    "            res = requests.get(api_url + self.artist_id + '/songs?sort=popularity&per_page=50&page=' + str(page), headers=headers)\n",
    "            print(\"Going through page \" + str(page))\n",
    "            for song in res.json()['response']['songs']:\n",
    "#                 print(song['full_title'])\n",
    "                if (\"Ft.\" in song['full_title']) | (\"Remix\" in song['full_title']):\n",
    "                    print(song['full_title'] + \" is a feat, skipping\")\n",
    "                else:\n",
    "                    song_url = song['url']\n",
    "                    list_of_songs.append(song_url)\n",
    "        self.songlist = list_of_songs\n",
    "        return\n",
    "    \n",
    "    \n",
    "    def write_lyrics_from_path(self):\n",
    "        with open(\"./lyrics/\" + self.name.replace(' ', '_') + '_lyrics.txt', 'w') as lyricsfile:\n",
    "            for song in self.songlist:\n",
    "                print(str(self.songlist.index(song)) + \" Now scraping \" + song[19:])\n",
    "                page_url = song\n",
    "                res = requests.get(page_url, headers=headers)\n",
    "                res.text\n",
    "                page = requests.get(page_url)\n",
    "                html = BeautifulSoup(page.text, 'html.parser')\n",
    "                lyrics = html.find(class_='lyrics').get_text()\n",
    "                lyricsfile.write(remove_unnecessary(lyrics.lower()))\n",
    "        return\n",
    "    \n",
    "    def perform_task(self, write_id=False):\n",
    "        self.get_artist_id()\n",
    "        self.get_songlist()\n",
    "        self.write_lyrics_from_path()\n",
    "        return\n"
   ]
  },
  {
   "cell_type": "code",
   "execution_count": 34,
   "metadata": {
    "ExecuteTime": {
     "end_time": "2018-03-02T18:31:32.516546Z",
     "start_time": "2018-03-02T18:30:19.662652Z"
    },
    "scrolled": true
   },
   "outputs": [
    {
     "name": "stdout",
     "output_type": "stream",
     "text": [
      "Finding the ID of an artist oxxxymiron\n",
      "ID of an artist oxxxymiron is 24422\n",
      "Getting the list of songs\n",
      "Going through page 1\n",
      "12/04/15: Oxxxymiron vs. Johnyboy by Versus Battle (Ft. Johnyboy & Oxxxymiron) is a feat, skipping\n",
      "Fata Morgana by Markul (Ft. Oxxxymiron) is a feat, skipping\n",
      "Безумие (Madness) [Remix] by ЛСП (LSP) (Ft. Oxxxymiron) is a feat, skipping\n",
      "Пора возвращаться домой (PVD) by БИ-2 (BI-2) (Ft. Oxxxymiron) is a feat, skipping\n",
      "13/08/2017: Oxxxymiron vs. Слава КПСС by Versus Battle (Ft. Oxxxymiron & Слава КПСС (Slava KPSS)) is a feat, skipping\n",
      "Больше Бена (Bolshe Bena) by Oxxxymiron (Ft. Охра (Ohra)) is a feat, skipping\n",
      "Darkside by Oxxxymiron (Ft. MadChild) is a feat, skipping\n",
      "Imperial by Porchy (Ft. ЛСП (LSP) & Oxxxymiron) is a feat, skipping\n",
      "Бездыханным (Breathless) by Жак-Энтони (Jacques-Anthony) (Ft. Oxxxymiron) is a feat, skipping\n",
      "Машина Прогресса (Progress Machine) by Ка-тет (Ka-tet) (Ft. Oxxxymiron) is a feat, skipping\n",
      "Привет со дна  (Hello from the bottom) by Oxxxymiron (Ft. Dom!No) is a feat, skipping\n",
      "Сага об орлах и канарейках (Saga ob orlah i kanareykah) by Schokk (Ft. Oxxxymiron) is a feat, skipping\n",
      "XXX SHOP by Oxxxymiron (Ft. Cianna Blaze & Porchy) is a feat, skipping\n",
      "Жук в муравейнике (Beetle in an anthill) by Oxxxymiron (Ft. Schokk) is a feat, skipping\n",
      "Мне скучно жить (Mne skuchno zhit) by ЛСП (LSP) (Ft. Oxxxymiron) is a feat, skipping\n",
      "Oxxxymiron vs Dizaster by King of the Dot (Ft. Dizaster & Oxxxymiron) is a feat, skipping\n",
      "Дежавю (Déjà Vu) by Rigos & BluntCath (Ft. Oxxxymiron) is a feat, skipping\n",
      "Earth Burns by Porchy (Ft. Oxxxymiron) is a feat, skipping\n",
      "То густо, то пусто (To gusto, to pusto) by Schokk (Ft. Oxxxymiron) is a feat, skipping\n",
      "Ultima Thule by Oxxxymiron (Ft. Луперкаль (Luperkal)) is a feat, skipping\n",
      "Going through page 2\n",
      "19/06/16: Oxxxymiron vs. ST by Versus Battle (Ft. Oxxxymiron & ST (Russia)) is a feat, skipping\n",
      "Athens Freestyle / Evolution by Loqiemean (Ft. Oxxxymiron & Porchy) is a feat, skipping\n",
      "Что такое биф? (What is a beef?) by Oxxxymiron (Ft. Schokk) is a feat, skipping\n",
      "Flashback by Porchy (Ft. Oxxxymiron) is a feat, skipping\n",
      "Дегенеративное искусство (Degenerativnoe Iskusstvo) by Schokk (Ft. Oxxxymiron) is a feat, skipping\n",
      "Мысли пачкают мозги (Myisli Pachkayut Mozgi) by Schokk (Ft. Oxxxymiron) is a feat, skipping\n",
      "Погружение (Immersion) by Луперкаль (Luperkal) (Ft. Oxxxymiron) is a feat, skipping\n",
      "Чёртово колесо (Chyortovo Koleso)* by Oxxxymiron (Ft. I1 & MC No Limit) is a feat, skipping\n",
      "В тихом омуте (V Tihom Omute) by Markul (Ft. Oxxxymiron) is a feat, skipping\n",
      "Operation Payback by Schokk (Ft. Oxxxymiron & СД (SD aka Sadist)) is a feat, skipping\n",
      "Честно (Honestly)* by I1 (Ft. Oxxxymiron) is a feat, skipping\n",
      "Vasco Da Gama by Oxxxymiron (Ft. Automatikk & Schokk) is a feat, skipping\n",
      "Special Delivery by СД (SD aka Sadist) (Ft. Oxxxymiron) is a feat, skipping\n",
      "Bukkake by Schokk (Ft. Oxxxymiron) is a feat, skipping\n",
      "Путь (Way) by Олегга (Olegga) (Ft. Oxxxymiron) is a feat, skipping\n",
      "Так как есть (Tak Kak Est') by Tribe (Ft. Chiff, Den Bro, Markul & Oxxxymiron) is a feat, skipping\n",
      "East London by Tribe (Ft. Chiff, Den Bro, Ganz & Oxxxymiron) is a feat, skipping\n",
      "На куски (Na kuski) (demo) by Oxxxymiron (Ft. Ganz) is a feat, skipping\n",
      "15/04/14: Oxxxymiron vs. Дуня by Versus Battle (Ft. Дуня (Dunya) & Oxxxymiron) is a feat, skipping\n",
      "14/09/13: Oxxxymiron vs. Крип-а-Крип by Versus Battle (Ft. Крип-а-Крип (Crip-a-Crip) & Oxxxymiron) is a feat, skipping\n",
      "G.O.D. by Ar-Side (Ft. Oxxxymiron) is a feat, skipping\n",
      "МГМНТ 2 (MGMNT 2) by Schokk (Ft. Oxxxymiron) is a feat, skipping\n",
      "Город под подошвой (GPP tour version) by Oxxxymiron (Ft. Охра (Ohra), Porchy & Sedated) is a feat, skipping\n",
      "Going through page 3\n",
      "Взрыв (Explosion)* by Oxxxymiron (Ft. 1.Kla$, Czar (Russia), I.G.O.R. (Russia), Kozz Porno & Schokk) is a feat, skipping\n",
      "Computer Rap (Remix) by СД (SD aka Sadist) (Ft. Czar (Russia), Oxxxymiron & Schokk) is a feat, skipping\n",
      "Mama, Im So Sorry by СД (SD aka Sadist) (Ft. Чекист (Chekist), Ddrop, Дуня (Dunya) & Oxxxymiron) is a feat, skipping\n",
      "Afterparty (demo) by Oxxxymiron (Ft. Den Bro) is a feat, skipping\n",
      "Дегенеративное искусство (Degenerative Art) by Пионерлагерь Пыльная Радуга (Pioneercamp Dusty Rainbow) (Ft. Oxxxymiron) is a feat, skipping\n",
      "13/08/2017: Oxxxymiron vs. Slava KPSS (English Translation) by Versus Battle (Ft. Oxxxymiron & Слава КПСС (Slava KPSS)) is a feat, skipping\n",
      "Просто я (Prosto Ya) by Ganz (Ft. Oxxxymiron) is a feat, skipping\n",
      "Ganz Promo Tune by Oxxxymiron (Ft. Ganz) is a feat, skipping\n",
      "Боль (Pain)* by Dandy (Ft. 1.Kla$ & Oxxxymiron) is a feat, skipping\n",
      "Ultima Thule (Oxxxymiron & Luperkal Remix) by SayMeow / Мяуриццио (Meowrizzio) is a feat, skipping\n",
      "Street Freestyle battle by Oxxxymiron (Ft. Some street guy) is a feat, skipping\n",
      "Мне нравится / Автоответчик 3 (Mne Nravitsa...) by СД (SD aka Sadist) (Ft. Oxxxymiron) is a feat, skipping\n",
      "Бездыханным [Tracklist + Album Art] by Жак-Энтони (Jacques-Anthony) (Ft. Oxxxymiron & Porchy) is a feat, skipping\n",
      "Versus Fresh Blood 4: Война Стилей by Versus Battle (Ft. Oxxxymiron & Смоки Мо (Smoky Mo)) is a feat, skipping\n",
      "Unreleased Track #2 by Oxxxymiron (Ft. Dizaster) is a feat, skipping\n",
      "0 Now scraping Oxxxymiron-city-under-the-sole-lyrics\n",
      "1 Now scraping Oxxxymiron-gde-nas-net-lyrics\n",
      "2 Now scraping Oxxxymiron-nevalyashka-lyrics\n",
      "3 Now scraping Oxxxymiron-before-winter-lyrics\n",
      "4 Now scraping Oxxxymiron-signs-of-life-lyrics\n",
      "5 Now scraping Oxxxymiron-gremlin-song-lyrics\n",
      "6 Now scraping Oxxxymiron-drakes-strait-lyrics\n",
      "7 Now scraping Oxxxymiron-lie-detector-lyrics\n",
      "8 Now scraping Oxxxymiron-east-mordor-lyrics\n",
      "9 Now scraping Oxxxymiron-tentacles-lyrics\n",
      "10 Now scraping Oxxxymiron-perepleteno-lyrics\n",
      "11 Now scraping Oxxxymiron-russky-cockney-lyrics\n",
      "12 Now scraping Oxxxymiron-devochka-pizdets-lyrics\n",
      "13 Now scraping Oxxxymiron-ivory-tower-lyrics\n",
      "14 Now scraping Oxxxymiron-hitinoviy-pokrov-lyrics\n",
      "15 Now scraping Oxxxymiron-vsego-lish-pisatel-lyrics\n",
      "16 Now scraping Oxxxymiron-ne-ot-mira-sego-lyrics\n",
      "17 Now scraping Oxxxymiron-bipolarochka-lyrics\n",
      "18 Now scraping Oxxxymiron-volapyuk-lyrics\n",
      "19 Now scraping Oxxxymiron-spontannoe-samovozgoranie-lyrics\n",
      "20 Now scraping Oxxxymiron-kem-ti-stal-lyrics\n",
      "21 Now scraping Oxxxymiron-poligon-lyrics\n",
      "22 Now scraping Oxxxymiron-last-call-lyrics\n",
      "23 Now scraping Oxxxymiron-lpv-lyrics\n",
      "24 Now scraping Oxxxymiron-slovo-mera-lyrics\n",
      "25 Now scraping Oxxxymiron-nakanune-lyrics\n",
      "26 Now scraping Oxxxymiron-oi-oi-lyrics\n",
      "27 Now scraping Oxxxymiron-lullaby-lyrics\n",
      "28 Now scraping Oxxxymiron-ne-s-nachala-lyrics\n",
      "29 Now scraping Oxxxymiron-yeti-i-deti-lyrics\n",
      "30 Now scraping Oxxxymiron-cctv-lyrics\n",
      "31 Now scraping Oxxxymiron-v-govne-lyrics\n",
      "32 Now scraping Oxxxymiron-crocodile-tears-lyrics\n",
      "33 Now scraping Oxxxymiron-imperivm-lyrics\n",
      "34 Now scraping Oxxxymiron-hpl-lyrics\n",
      "35 Now scraping Oxxxymiron-i-am-a-hater-lyrics\n",
      "36 Now scraping Oxxxymiron-numbers-and-colors-lyrics\n",
      "37 Now scraping Oxxxymiron-mc-do-sih-por-mc-lyrics\n",
      "38 Now scraping Oxxxymiron-den-fizkulturnika-lyrics\n",
      "39 Now scraping Oxxxymiron-vechniy-zhid-lyrics\n",
      "40 Now scraping Oxxxymiron-sudba-moralista-lyrics\n",
      "41 Now scraping Oxxxymiron-v-bulbulyatore-lyrics\n",
      "42 Now scraping Oxxxymiron-in-the-country-of-women-lyrics\n",
      "43 Now scraping Oxxxymiron-ost-londongrad-lyrics\n",
      "44 Now scraping Oxxxymiron-shade-45-freestyle-lyrics\n",
      "45 Now scraping Oxxxymiron-ne-govori-ni-slova-lyrics\n",
      "46 Now scraping Oxxxymiron-2-lpv-2-lyrics\n",
      "47 Now scraping Oxxxymiron-no-connection-lyrics\n",
      "48 Now scraping Oxxxymiron-oxxxymiron-lyrics\n",
      "49 Now scraping Oxxxymiron-shalom-lyrics\n",
      "50 Now scraping Oxxxymiron-yaschik-fokusnika-lyrics\n",
      "51 Now scraping Oxxxymiron-hangover-lyrics\n",
      "52 Now scraping Oxxxymiron-hodyat-sluhi-lyrics\n",
      "53 Now scraping Oxxxymiron-taynie-zhelaniya-lyrics\n",
      "54 Now scraping Oxxxymiron-intro-lyrics\n",
      "55 Now scraping Oxxxymiron-devochka-pizdets-2011-2012-demo-lyrics\n",
      "56 Now scraping Oxxxymiron-unreleased-track-lyrics\n",
      "57 Now scraping Oxxxymiron-pesenka-pro-shahmatista-lyrics\n",
      "58 Now scraping Oxxxymiron-16-bars-acapella-lyrics\n",
      "59 Now scraping Oxxxymiron-ai-ogon-lyrics\n",
      "60 Now scraping Oxxxymiron-centr-freestyle-lyrics\n",
      "Finding the ID of an artist maculatura\n",
      "ID of an artist maculatura is 229900\n",
      "Getting the list of songs\n"
     ]
    },
    {
     "ename": "KeyboardInterrupt",
     "evalue": "",
     "output_type": "error",
     "traceback": [
      "\u001b[0;31m---------------------------------------------------------------------------\u001b[0m",
      "\u001b[0;31mTypeError\u001b[0m                                 Traceback (most recent call last)",
      "\u001b[0;32m/usr/lib/python3.4/site-packages/urllib3/connectionpool.py\u001b[0m in \u001b[0;36m_make_request\u001b[0;34m(self, conn, method, url, timeout, chunked, **httplib_request_kw)\u001b[0m\n\u001b[1;32m    379\u001b[0m             \u001b[0;32mtry\u001b[0m\u001b[0;34m:\u001b[0m  \u001b[0;31m# Python 2.7, use buffering of HTTP responses\u001b[0m\u001b[0;34m\u001b[0m\u001b[0m\n\u001b[0;32m--> 380\u001b[0;31m                 \u001b[0mhttplib_response\u001b[0m \u001b[0;34m=\u001b[0m \u001b[0mconn\u001b[0m\u001b[0;34m.\u001b[0m\u001b[0mgetresponse\u001b[0m\u001b[0;34m(\u001b[0m\u001b[0mbuffering\u001b[0m\u001b[0;34m=\u001b[0m\u001b[0;32mTrue\u001b[0m\u001b[0;34m)\u001b[0m\u001b[0;34m\u001b[0m\u001b[0m\n\u001b[0m\u001b[1;32m    381\u001b[0m             \u001b[0;32mexcept\u001b[0m \u001b[0mTypeError\u001b[0m\u001b[0;34m:\u001b[0m  \u001b[0;31m# Python 2.6 and older, Python 3\u001b[0m\u001b[0;34m\u001b[0m\u001b[0m\n",
      "\u001b[0;31mTypeError\u001b[0m: getresponse() got an unexpected keyword argument 'buffering'",
      "\nDuring handling of the above exception, another exception occurred:\n",
      "\u001b[0;31mKeyboardInterrupt\u001b[0m                         Traceback (most recent call last)",
      "\u001b[0;32m<timed exec>\u001b[0m in \u001b[0;36m<module>\u001b[0;34m()\u001b[0m\n",
      "\u001b[0;32m<ipython-input-29-7901914c031c>\u001b[0m in \u001b[0;36mperform_task\u001b[0;34m(self, write_id)\u001b[0m\n\u001b[1;32m     57\u001b[0m     \u001b[0;32mdef\u001b[0m \u001b[0mperform_task\u001b[0m\u001b[0;34m(\u001b[0m\u001b[0mself\u001b[0m\u001b[0;34m,\u001b[0m \u001b[0mwrite_id\u001b[0m\u001b[0;34m=\u001b[0m\u001b[0;32mFalse\u001b[0m\u001b[0;34m)\u001b[0m\u001b[0;34m:\u001b[0m\u001b[0;34m\u001b[0m\u001b[0m\n\u001b[1;32m     58\u001b[0m         \u001b[0mself\u001b[0m\u001b[0;34m.\u001b[0m\u001b[0mget_artist_id\u001b[0m\u001b[0;34m(\u001b[0m\u001b[0;34m)\u001b[0m\u001b[0;34m\u001b[0m\u001b[0m\n\u001b[0;32m---> 59\u001b[0;31m         \u001b[0mself\u001b[0m\u001b[0;34m.\u001b[0m\u001b[0mget_songlist\u001b[0m\u001b[0;34m(\u001b[0m\u001b[0;34m)\u001b[0m\u001b[0;34m\u001b[0m\u001b[0m\n\u001b[0m\u001b[1;32m     60\u001b[0m         \u001b[0mself\u001b[0m\u001b[0;34m.\u001b[0m\u001b[0mwrite_lyrics_from_path\u001b[0m\u001b[0;34m(\u001b[0m\u001b[0;34m)\u001b[0m\u001b[0;34m\u001b[0m\u001b[0m\n\u001b[1;32m     61\u001b[0m         \u001b[0;32mreturn\u001b[0m\u001b[0;34m\u001b[0m\u001b[0m\n",
      "\u001b[0;32m<ipython-input-29-7901914c031c>\u001b[0m in \u001b[0;36mget_songlist\u001b[0;34m(self)\u001b[0m\n\u001b[1;32m     29\u001b[0m         \u001b[0mprint\u001b[0m\u001b[0;34m(\u001b[0m\u001b[0;34m\"Getting the list of songs\"\u001b[0m\u001b[0;34m)\u001b[0m\u001b[0;34m\u001b[0m\u001b[0m\n\u001b[1;32m     30\u001b[0m         \u001b[0;32mfor\u001b[0m \u001b[0mpage\u001b[0m \u001b[0;32min\u001b[0m \u001b[0mrange\u001b[0m\u001b[0;34m(\u001b[0m\u001b[0;36m1\u001b[0m\u001b[0;34m,\u001b[0m\u001b[0;36m4\u001b[0m\u001b[0;34m)\u001b[0m\u001b[0;34m:\u001b[0m\u001b[0;34m\u001b[0m\u001b[0m\n\u001b[0;32m---> 31\u001b[0;31m             \u001b[0mres\u001b[0m \u001b[0;34m=\u001b[0m \u001b[0mrequests\u001b[0m\u001b[0;34m.\u001b[0m\u001b[0mget\u001b[0m\u001b[0;34m(\u001b[0m\u001b[0mapi_url\u001b[0m \u001b[0;34m+\u001b[0m \u001b[0mself\u001b[0m\u001b[0;34m.\u001b[0m\u001b[0martist_id\u001b[0m \u001b[0;34m+\u001b[0m \u001b[0;34m'/songs?sort=popularity&per_page=50&page='\u001b[0m \u001b[0;34m+\u001b[0m \u001b[0mstr\u001b[0m\u001b[0;34m(\u001b[0m\u001b[0mpage\u001b[0m\u001b[0;34m)\u001b[0m\u001b[0;34m,\u001b[0m \u001b[0mheaders\u001b[0m\u001b[0;34m=\u001b[0m\u001b[0mheaders\u001b[0m\u001b[0;34m)\u001b[0m\u001b[0;34m\u001b[0m\u001b[0m\n\u001b[0m\u001b[1;32m     32\u001b[0m             \u001b[0mprint\u001b[0m\u001b[0;34m(\u001b[0m\u001b[0;34m\"Going through page \"\u001b[0m \u001b[0;34m+\u001b[0m \u001b[0mstr\u001b[0m\u001b[0;34m(\u001b[0m\u001b[0mpage\u001b[0m\u001b[0;34m)\u001b[0m\u001b[0;34m)\u001b[0m\u001b[0;34m\u001b[0m\u001b[0m\n\u001b[1;32m     33\u001b[0m             \u001b[0;32mfor\u001b[0m \u001b[0msong\u001b[0m \u001b[0;32min\u001b[0m \u001b[0mres\u001b[0m\u001b[0;34m.\u001b[0m\u001b[0mjson\u001b[0m\u001b[0;34m(\u001b[0m\u001b[0;34m)\u001b[0m\u001b[0;34m[\u001b[0m\u001b[0;34m'response'\u001b[0m\u001b[0;34m]\u001b[0m\u001b[0;34m[\u001b[0m\u001b[0;34m'songs'\u001b[0m\u001b[0;34m]\u001b[0m\u001b[0;34m:\u001b[0m\u001b[0;34m\u001b[0m\u001b[0m\n",
      "\u001b[0;32m/usr/lib/python3.4/site-packages/requests/api.py\u001b[0m in \u001b[0;36mget\u001b[0;34m(url, params, **kwargs)\u001b[0m\n\u001b[1;32m     70\u001b[0m \u001b[0;34m\u001b[0m\u001b[0m\n\u001b[1;32m     71\u001b[0m     \u001b[0mkwargs\u001b[0m\u001b[0;34m.\u001b[0m\u001b[0msetdefault\u001b[0m\u001b[0;34m(\u001b[0m\u001b[0;34m'allow_redirects'\u001b[0m\u001b[0;34m,\u001b[0m \u001b[0;32mTrue\u001b[0m\u001b[0;34m)\u001b[0m\u001b[0;34m\u001b[0m\u001b[0m\n\u001b[0;32m---> 72\u001b[0;31m     \u001b[0;32mreturn\u001b[0m \u001b[0mrequest\u001b[0m\u001b[0;34m(\u001b[0m\u001b[0;34m'get'\u001b[0m\u001b[0;34m,\u001b[0m \u001b[0murl\u001b[0m\u001b[0;34m,\u001b[0m \u001b[0mparams\u001b[0m\u001b[0;34m=\u001b[0m\u001b[0mparams\u001b[0m\u001b[0;34m,\u001b[0m \u001b[0;34m**\u001b[0m\u001b[0mkwargs\u001b[0m\u001b[0;34m)\u001b[0m\u001b[0;34m\u001b[0m\u001b[0m\n\u001b[0m\u001b[1;32m     73\u001b[0m \u001b[0;34m\u001b[0m\u001b[0m\n\u001b[1;32m     74\u001b[0m \u001b[0;34m\u001b[0m\u001b[0m\n",
      "\u001b[0;32m/usr/lib/python3.4/site-packages/requests/api.py\u001b[0m in \u001b[0;36mrequest\u001b[0;34m(method, url, **kwargs)\u001b[0m\n\u001b[1;32m     56\u001b[0m     \u001b[0;31m# cases, and look like a memory leak in others.\u001b[0m\u001b[0;34m\u001b[0m\u001b[0;34m\u001b[0m\u001b[0m\n\u001b[1;32m     57\u001b[0m     \u001b[0;32mwith\u001b[0m \u001b[0msessions\u001b[0m\u001b[0;34m.\u001b[0m\u001b[0mSession\u001b[0m\u001b[0;34m(\u001b[0m\u001b[0;34m)\u001b[0m \u001b[0;32mas\u001b[0m \u001b[0msession\u001b[0m\u001b[0;34m:\u001b[0m\u001b[0;34m\u001b[0m\u001b[0m\n\u001b[0;32m---> 58\u001b[0;31m         \u001b[0;32mreturn\u001b[0m \u001b[0msession\u001b[0m\u001b[0;34m.\u001b[0m\u001b[0mrequest\u001b[0m\u001b[0;34m(\u001b[0m\u001b[0mmethod\u001b[0m\u001b[0;34m=\u001b[0m\u001b[0mmethod\u001b[0m\u001b[0;34m,\u001b[0m \u001b[0murl\u001b[0m\u001b[0;34m=\u001b[0m\u001b[0murl\u001b[0m\u001b[0;34m,\u001b[0m \u001b[0;34m**\u001b[0m\u001b[0mkwargs\u001b[0m\u001b[0;34m)\u001b[0m\u001b[0;34m\u001b[0m\u001b[0m\n\u001b[0m\u001b[1;32m     59\u001b[0m \u001b[0;34m\u001b[0m\u001b[0m\n\u001b[1;32m     60\u001b[0m \u001b[0;34m\u001b[0m\u001b[0m\n",
      "\u001b[0;32m/usr/lib/python3.4/site-packages/requests/sessions.py\u001b[0m in \u001b[0;36mrequest\u001b[0;34m(self, method, url, params, data, headers, cookies, files, auth, timeout, allow_redirects, proxies, hooks, stream, verify, cert, json)\u001b[0m\n\u001b[1;32m    506\u001b[0m         }\n\u001b[1;32m    507\u001b[0m         \u001b[0msend_kwargs\u001b[0m\u001b[0;34m.\u001b[0m\u001b[0mupdate\u001b[0m\u001b[0;34m(\u001b[0m\u001b[0msettings\u001b[0m\u001b[0;34m)\u001b[0m\u001b[0;34m\u001b[0m\u001b[0m\n\u001b[0;32m--> 508\u001b[0;31m         \u001b[0mresp\u001b[0m \u001b[0;34m=\u001b[0m \u001b[0mself\u001b[0m\u001b[0;34m.\u001b[0m\u001b[0msend\u001b[0m\u001b[0;34m(\u001b[0m\u001b[0mprep\u001b[0m\u001b[0;34m,\u001b[0m \u001b[0;34m**\u001b[0m\u001b[0msend_kwargs\u001b[0m\u001b[0;34m)\u001b[0m\u001b[0;34m\u001b[0m\u001b[0m\n\u001b[0m\u001b[1;32m    509\u001b[0m \u001b[0;34m\u001b[0m\u001b[0m\n\u001b[1;32m    510\u001b[0m         \u001b[0;32mreturn\u001b[0m \u001b[0mresp\u001b[0m\u001b[0;34m\u001b[0m\u001b[0m\n",
      "\u001b[0;32m/usr/lib/python3.4/site-packages/requests/sessions.py\u001b[0m in \u001b[0;36msend\u001b[0;34m(self, request, **kwargs)\u001b[0m\n\u001b[1;32m    638\u001b[0m \u001b[0;34m\u001b[0m\u001b[0m\n\u001b[1;32m    639\u001b[0m         \u001b[0;31m# Resolve redirects if allowed.\u001b[0m\u001b[0;34m\u001b[0m\u001b[0;34m\u001b[0m\u001b[0m\n\u001b[0;32m--> 640\u001b[0;31m         \u001b[0mhistory\u001b[0m \u001b[0;34m=\u001b[0m \u001b[0;34m[\u001b[0m\u001b[0mresp\u001b[0m \u001b[0;32mfor\u001b[0m \u001b[0mresp\u001b[0m \u001b[0;32min\u001b[0m \u001b[0mgen\u001b[0m\u001b[0;34m]\u001b[0m \u001b[0;32mif\u001b[0m \u001b[0mallow_redirects\u001b[0m \u001b[0;32melse\u001b[0m \u001b[0;34m[\u001b[0m\u001b[0;34m]\u001b[0m\u001b[0;34m\u001b[0m\u001b[0m\n\u001b[0m\u001b[1;32m    641\u001b[0m \u001b[0;34m\u001b[0m\u001b[0m\n\u001b[1;32m    642\u001b[0m         \u001b[0;31m# Shuffle things around if there's history.\u001b[0m\u001b[0;34m\u001b[0m\u001b[0;34m\u001b[0m\u001b[0m\n",
      "\u001b[0;32m/usr/lib/python3.4/site-packages/requests/sessions.py\u001b[0m in \u001b[0;36m<listcomp>\u001b[0;34m(.0)\u001b[0m\n\u001b[1;32m    638\u001b[0m \u001b[0;34m\u001b[0m\u001b[0m\n\u001b[1;32m    639\u001b[0m         \u001b[0;31m# Resolve redirects if allowed.\u001b[0m\u001b[0;34m\u001b[0m\u001b[0;34m\u001b[0m\u001b[0m\n\u001b[0;32m--> 640\u001b[0;31m         \u001b[0mhistory\u001b[0m \u001b[0;34m=\u001b[0m \u001b[0;34m[\u001b[0m\u001b[0mresp\u001b[0m \u001b[0;32mfor\u001b[0m \u001b[0mresp\u001b[0m \u001b[0;32min\u001b[0m \u001b[0mgen\u001b[0m\u001b[0;34m]\u001b[0m \u001b[0;32mif\u001b[0m \u001b[0mallow_redirects\u001b[0m \u001b[0;32melse\u001b[0m \u001b[0;34m[\u001b[0m\u001b[0;34m]\u001b[0m\u001b[0;34m\u001b[0m\u001b[0m\n\u001b[0m\u001b[1;32m    641\u001b[0m \u001b[0;34m\u001b[0m\u001b[0m\n\u001b[1;32m    642\u001b[0m         \u001b[0;31m# Shuffle things around if there's history.\u001b[0m\u001b[0;34m\u001b[0m\u001b[0;34m\u001b[0m\u001b[0m\n",
      "\u001b[0;32m/usr/lib/python3.4/site-packages/requests/sessions.py\u001b[0m in \u001b[0;36mresolve_redirects\u001b[0;34m(self, resp, req, stream, timeout, verify, cert, proxies, yield_requests, **adapter_kwargs)\u001b[0m\n\u001b[1;32m    216\u001b[0m                     \u001b[0mproxies\u001b[0m\u001b[0;34m=\u001b[0m\u001b[0mproxies\u001b[0m\u001b[0;34m,\u001b[0m\u001b[0;34m\u001b[0m\u001b[0m\n\u001b[1;32m    217\u001b[0m                     \u001b[0mallow_redirects\u001b[0m\u001b[0;34m=\u001b[0m\u001b[0;32mFalse\u001b[0m\u001b[0;34m,\u001b[0m\u001b[0;34m\u001b[0m\u001b[0m\n\u001b[0;32m--> 218\u001b[0;31m                     \u001b[0;34m**\u001b[0m\u001b[0madapter_kwargs\u001b[0m\u001b[0;34m\u001b[0m\u001b[0m\n\u001b[0m\u001b[1;32m    219\u001b[0m                 )\n\u001b[1;32m    220\u001b[0m \u001b[0;34m\u001b[0m\u001b[0m\n",
      "\u001b[0;32m/usr/lib/python3.4/site-packages/requests/sessions.py\u001b[0m in \u001b[0;36msend\u001b[0;34m(self, request, **kwargs)\u001b[0m\n\u001b[1;32m    616\u001b[0m \u001b[0;34m\u001b[0m\u001b[0m\n\u001b[1;32m    617\u001b[0m         \u001b[0;31m# Send the request\u001b[0m\u001b[0;34m\u001b[0m\u001b[0;34m\u001b[0m\u001b[0m\n\u001b[0;32m--> 618\u001b[0;31m         \u001b[0mr\u001b[0m \u001b[0;34m=\u001b[0m \u001b[0madapter\u001b[0m\u001b[0;34m.\u001b[0m\u001b[0msend\u001b[0m\u001b[0;34m(\u001b[0m\u001b[0mrequest\u001b[0m\u001b[0;34m,\u001b[0m \u001b[0;34m**\u001b[0m\u001b[0mkwargs\u001b[0m\u001b[0;34m)\u001b[0m\u001b[0;34m\u001b[0m\u001b[0m\n\u001b[0m\u001b[1;32m    619\u001b[0m \u001b[0;34m\u001b[0m\u001b[0m\n\u001b[1;32m    620\u001b[0m         \u001b[0;31m# Total elapsed time of the request (approximately)\u001b[0m\u001b[0;34m\u001b[0m\u001b[0;34m\u001b[0m\u001b[0m\n",
      "\u001b[0;32m/usr/lib/python3.4/site-packages/requests/adapters.py\u001b[0m in \u001b[0;36msend\u001b[0;34m(self, request, stream, timeout, verify, cert, proxies)\u001b[0m\n\u001b[1;32m    438\u001b[0m                     \u001b[0mdecode_content\u001b[0m\u001b[0;34m=\u001b[0m\u001b[0;32mFalse\u001b[0m\u001b[0;34m,\u001b[0m\u001b[0;34m\u001b[0m\u001b[0m\n\u001b[1;32m    439\u001b[0m                     \u001b[0mretries\u001b[0m\u001b[0;34m=\u001b[0m\u001b[0mself\u001b[0m\u001b[0;34m.\u001b[0m\u001b[0mmax_retries\u001b[0m\u001b[0;34m,\u001b[0m\u001b[0;34m\u001b[0m\u001b[0m\n\u001b[0;32m--> 440\u001b[0;31m                     \u001b[0mtimeout\u001b[0m\u001b[0;34m=\u001b[0m\u001b[0mtimeout\u001b[0m\u001b[0;34m\u001b[0m\u001b[0m\n\u001b[0m\u001b[1;32m    441\u001b[0m                 )\n\u001b[1;32m    442\u001b[0m \u001b[0;34m\u001b[0m\u001b[0m\n",
      "\u001b[0;32m/usr/lib/python3.4/site-packages/urllib3/connectionpool.py\u001b[0m in \u001b[0;36murlopen\u001b[0;34m(self, method, url, body, headers, retries, redirect, assert_same_host, timeout, pool_timeout, release_conn, chunked, body_pos, **response_kw)\u001b[0m\n\u001b[1;32m    599\u001b[0m                                                   \u001b[0mtimeout\u001b[0m\u001b[0;34m=\u001b[0m\u001b[0mtimeout_obj\u001b[0m\u001b[0;34m,\u001b[0m\u001b[0;34m\u001b[0m\u001b[0m\n\u001b[1;32m    600\u001b[0m                                                   \u001b[0mbody\u001b[0m\u001b[0;34m=\u001b[0m\u001b[0mbody\u001b[0m\u001b[0;34m,\u001b[0m \u001b[0mheaders\u001b[0m\u001b[0;34m=\u001b[0m\u001b[0mheaders\u001b[0m\u001b[0;34m,\u001b[0m\u001b[0;34m\u001b[0m\u001b[0m\n\u001b[0;32m--> 601\u001b[0;31m                                                   chunked=chunked)\n\u001b[0m\u001b[1;32m    602\u001b[0m \u001b[0;34m\u001b[0m\u001b[0m\n\u001b[1;32m    603\u001b[0m             \u001b[0;31m# If we're going to release the connection in ``finally:``, then\u001b[0m\u001b[0;34m\u001b[0m\u001b[0;34m\u001b[0m\u001b[0m\n",
      "\u001b[0;32m/usr/lib/python3.4/site-packages/urllib3/connectionpool.py\u001b[0m in \u001b[0;36m_make_request\u001b[0;34m(self, conn, method, url, timeout, chunked, **httplib_request_kw)\u001b[0m\n\u001b[1;32m    381\u001b[0m             \u001b[0;32mexcept\u001b[0m \u001b[0mTypeError\u001b[0m\u001b[0;34m:\u001b[0m  \u001b[0;31m# Python 2.6 and older, Python 3\u001b[0m\u001b[0;34m\u001b[0m\u001b[0m\n\u001b[1;32m    382\u001b[0m                 \u001b[0;32mtry\u001b[0m\u001b[0;34m:\u001b[0m\u001b[0;34m\u001b[0m\u001b[0m\n\u001b[0;32m--> 383\u001b[0;31m                     \u001b[0mhttplib_response\u001b[0m \u001b[0;34m=\u001b[0m \u001b[0mconn\u001b[0m\u001b[0;34m.\u001b[0m\u001b[0mgetresponse\u001b[0m\u001b[0;34m(\u001b[0m\u001b[0;34m)\u001b[0m\u001b[0;34m\u001b[0m\u001b[0m\n\u001b[0m\u001b[1;32m    384\u001b[0m                 \u001b[0;32mexcept\u001b[0m \u001b[0mException\u001b[0m \u001b[0;32mas\u001b[0m \u001b[0me\u001b[0m\u001b[0;34m:\u001b[0m\u001b[0;34m\u001b[0m\u001b[0m\n\u001b[1;32m    385\u001b[0m                     \u001b[0;31m# Remove the TypeError from the exception chain in Python 3;\u001b[0m\u001b[0;34m\u001b[0m\u001b[0;34m\u001b[0m\u001b[0m\n",
      "\u001b[0;32m/usr/lib64/python3.4/http/client.py\u001b[0m in \u001b[0;36mgetresponse\u001b[0;34m(self)\u001b[0m\n\u001b[1;32m   1225\u001b[0m \u001b[0;34m\u001b[0m\u001b[0m\n\u001b[1;32m   1226\u001b[0m         \u001b[0;32mtry\u001b[0m\u001b[0;34m:\u001b[0m\u001b[0;34m\u001b[0m\u001b[0m\n\u001b[0;32m-> 1227\u001b[0;31m             \u001b[0mresponse\u001b[0m\u001b[0;34m.\u001b[0m\u001b[0mbegin\u001b[0m\u001b[0;34m(\u001b[0m\u001b[0;34m)\u001b[0m\u001b[0;34m\u001b[0m\u001b[0m\n\u001b[0m\u001b[1;32m   1228\u001b[0m             \u001b[0;32massert\u001b[0m \u001b[0mresponse\u001b[0m\u001b[0;34m.\u001b[0m\u001b[0mwill_close\u001b[0m \u001b[0;34m!=\u001b[0m \u001b[0m_UNKNOWN\u001b[0m\u001b[0;34m\u001b[0m\u001b[0m\n\u001b[1;32m   1229\u001b[0m             \u001b[0mself\u001b[0m\u001b[0;34m.\u001b[0m\u001b[0m__state\u001b[0m \u001b[0;34m=\u001b[0m \u001b[0m_CS_IDLE\u001b[0m\u001b[0;34m\u001b[0m\u001b[0m\n",
      "\u001b[0;32m/usr/lib64/python3.4/http/client.py\u001b[0m in \u001b[0;36mbegin\u001b[0;34m(self)\u001b[0m\n\u001b[1;32m    384\u001b[0m         \u001b[0;31m# read until we get a non-100 response\u001b[0m\u001b[0;34m\u001b[0m\u001b[0;34m\u001b[0m\u001b[0m\n\u001b[1;32m    385\u001b[0m         \u001b[0;32mwhile\u001b[0m \u001b[0;32mTrue\u001b[0m\u001b[0;34m:\u001b[0m\u001b[0;34m\u001b[0m\u001b[0m\n\u001b[0;32m--> 386\u001b[0;31m             \u001b[0mversion\u001b[0m\u001b[0;34m,\u001b[0m \u001b[0mstatus\u001b[0m\u001b[0;34m,\u001b[0m \u001b[0mreason\u001b[0m \u001b[0;34m=\u001b[0m \u001b[0mself\u001b[0m\u001b[0;34m.\u001b[0m\u001b[0m_read_status\u001b[0m\u001b[0;34m(\u001b[0m\u001b[0;34m)\u001b[0m\u001b[0;34m\u001b[0m\u001b[0m\n\u001b[0m\u001b[1;32m    387\u001b[0m             \u001b[0;32mif\u001b[0m \u001b[0mstatus\u001b[0m \u001b[0;34m!=\u001b[0m \u001b[0mCONTINUE\u001b[0m\u001b[0;34m:\u001b[0m\u001b[0;34m\u001b[0m\u001b[0m\n\u001b[1;32m    388\u001b[0m                 \u001b[0;32mbreak\u001b[0m\u001b[0;34m\u001b[0m\u001b[0m\n",
      "\u001b[0;32m/usr/lib64/python3.4/http/client.py\u001b[0m in \u001b[0;36m_read_status\u001b[0;34m(self)\u001b[0m\n\u001b[1;32m    346\u001b[0m \u001b[0;34m\u001b[0m\u001b[0m\n\u001b[1;32m    347\u001b[0m     \u001b[0;32mdef\u001b[0m \u001b[0m_read_status\u001b[0m\u001b[0;34m(\u001b[0m\u001b[0mself\u001b[0m\u001b[0;34m)\u001b[0m\u001b[0;34m:\u001b[0m\u001b[0;34m\u001b[0m\u001b[0m\n\u001b[0;32m--> 348\u001b[0;31m         \u001b[0mline\u001b[0m \u001b[0;34m=\u001b[0m \u001b[0mstr\u001b[0m\u001b[0;34m(\u001b[0m\u001b[0mself\u001b[0m\u001b[0;34m.\u001b[0m\u001b[0mfp\u001b[0m\u001b[0;34m.\u001b[0m\u001b[0mreadline\u001b[0m\u001b[0;34m(\u001b[0m\u001b[0m_MAXLINE\u001b[0m \u001b[0;34m+\u001b[0m \u001b[0;36m1\u001b[0m\u001b[0;34m)\u001b[0m\u001b[0;34m,\u001b[0m \u001b[0;34m\"iso-8859-1\"\u001b[0m\u001b[0;34m)\u001b[0m\u001b[0;34m\u001b[0m\u001b[0m\n\u001b[0m\u001b[1;32m    349\u001b[0m         \u001b[0;32mif\u001b[0m \u001b[0mlen\u001b[0m\u001b[0;34m(\u001b[0m\u001b[0mline\u001b[0m\u001b[0;34m)\u001b[0m \u001b[0;34m>\u001b[0m \u001b[0m_MAXLINE\u001b[0m\u001b[0;34m:\u001b[0m\u001b[0;34m\u001b[0m\u001b[0m\n\u001b[1;32m    350\u001b[0m             \u001b[0;32mraise\u001b[0m \u001b[0mLineTooLong\u001b[0m\u001b[0;34m(\u001b[0m\u001b[0;34m\"status line\"\u001b[0m\u001b[0;34m)\u001b[0m\u001b[0;34m\u001b[0m\u001b[0m\n",
      "\u001b[0;32m/usr/lib64/python3.4/socket.py\u001b[0m in \u001b[0;36mreadinto\u001b[0;34m(self, b)\u001b[0m\n\u001b[1;32m    376\u001b[0m         \u001b[0;32mwhile\u001b[0m \u001b[0;32mTrue\u001b[0m\u001b[0;34m:\u001b[0m\u001b[0;34m\u001b[0m\u001b[0m\n\u001b[1;32m    377\u001b[0m             \u001b[0;32mtry\u001b[0m\u001b[0;34m:\u001b[0m\u001b[0;34m\u001b[0m\u001b[0m\n\u001b[0;32m--> 378\u001b[0;31m                 \u001b[0;32mreturn\u001b[0m \u001b[0mself\u001b[0m\u001b[0;34m.\u001b[0m\u001b[0m_sock\u001b[0m\u001b[0;34m.\u001b[0m\u001b[0mrecv_into\u001b[0m\u001b[0;34m(\u001b[0m\u001b[0mb\u001b[0m\u001b[0;34m)\u001b[0m\u001b[0;34m\u001b[0m\u001b[0m\n\u001b[0m\u001b[1;32m    379\u001b[0m             \u001b[0;32mexcept\u001b[0m \u001b[0mtimeout\u001b[0m\u001b[0;34m:\u001b[0m\u001b[0;34m\u001b[0m\u001b[0m\n\u001b[1;32m    380\u001b[0m                 \u001b[0mself\u001b[0m\u001b[0;34m.\u001b[0m\u001b[0m_timeout_occurred\u001b[0m \u001b[0;34m=\u001b[0m \u001b[0;32mTrue\u001b[0m\u001b[0;34m\u001b[0m\u001b[0m\n",
      "\u001b[0;32m/usr/lib64/python3.4/ssl.py\u001b[0m in \u001b[0;36mrecv_into\u001b[0;34m(self, buffer, nbytes, flags)\u001b[0m\n\u001b[1;32m    746\u001b[0m                   \u001b[0;34m\"non-zero flags not allowed in calls to recv_into() on %s\"\u001b[0m \u001b[0;34m%\u001b[0m\u001b[0;34m\u001b[0m\u001b[0m\n\u001b[1;32m    747\u001b[0m                   self.__class__)\n\u001b[0;32m--> 748\u001b[0;31m             \u001b[0;32mreturn\u001b[0m \u001b[0mself\u001b[0m\u001b[0;34m.\u001b[0m\u001b[0mread\u001b[0m\u001b[0;34m(\u001b[0m\u001b[0mnbytes\u001b[0m\u001b[0;34m,\u001b[0m \u001b[0mbuffer\u001b[0m\u001b[0;34m)\u001b[0m\u001b[0;34m\u001b[0m\u001b[0m\n\u001b[0m\u001b[1;32m    749\u001b[0m         \u001b[0;32melse\u001b[0m\u001b[0;34m:\u001b[0m\u001b[0;34m\u001b[0m\u001b[0m\n\u001b[1;32m    750\u001b[0m             \u001b[0;32mreturn\u001b[0m \u001b[0msocket\u001b[0m\u001b[0;34m.\u001b[0m\u001b[0mrecv_into\u001b[0m\u001b[0;34m(\u001b[0m\u001b[0mself\u001b[0m\u001b[0;34m,\u001b[0m \u001b[0mbuffer\u001b[0m\u001b[0;34m,\u001b[0m \u001b[0mnbytes\u001b[0m\u001b[0;34m,\u001b[0m \u001b[0mflags\u001b[0m\u001b[0;34m)\u001b[0m\u001b[0;34m\u001b[0m\u001b[0m\n",
      "\u001b[0;32m/usr/lib64/python3.4/ssl.py\u001b[0m in \u001b[0;36mread\u001b[0;34m(self, len, buffer)\u001b[0m\n\u001b[1;32m    618\u001b[0m         \u001b[0;32mtry\u001b[0m\u001b[0;34m:\u001b[0m\u001b[0;34m\u001b[0m\u001b[0m\n\u001b[1;32m    619\u001b[0m             \u001b[0;32mif\u001b[0m \u001b[0mbuffer\u001b[0m \u001b[0;32mis\u001b[0m \u001b[0;32mnot\u001b[0m \u001b[0;32mNone\u001b[0m\u001b[0;34m:\u001b[0m\u001b[0;34m\u001b[0m\u001b[0m\n\u001b[0;32m--> 620\u001b[0;31m                 \u001b[0mv\u001b[0m \u001b[0;34m=\u001b[0m \u001b[0mself\u001b[0m\u001b[0;34m.\u001b[0m\u001b[0m_sslobj\u001b[0m\u001b[0;34m.\u001b[0m\u001b[0mread\u001b[0m\u001b[0;34m(\u001b[0m\u001b[0mlen\u001b[0m\u001b[0;34m,\u001b[0m \u001b[0mbuffer\u001b[0m\u001b[0;34m)\u001b[0m\u001b[0;34m\u001b[0m\u001b[0m\n\u001b[0m\u001b[1;32m    621\u001b[0m             \u001b[0;32melse\u001b[0m\u001b[0;34m:\u001b[0m\u001b[0;34m\u001b[0m\u001b[0m\n\u001b[1;32m    622\u001b[0m                 \u001b[0mv\u001b[0m \u001b[0;34m=\u001b[0m \u001b[0mself\u001b[0m\u001b[0;34m.\u001b[0m\u001b[0m_sslobj\u001b[0m\u001b[0;34m.\u001b[0m\u001b[0mread\u001b[0m\u001b[0;34m(\u001b[0m\u001b[0mlen\u001b[0m \u001b[0;32mor\u001b[0m \u001b[0;36m1024\u001b[0m\u001b[0;34m)\u001b[0m\u001b[0;34m\u001b[0m\u001b[0m\n",
      "\u001b[0;31mKeyboardInterrupt\u001b[0m: "
     ]
    }
   ],
   "source": [
    "%%time\n",
    "with open('./artists_source.txt', 'r') as id_list:\n",
    "    for artist in id_list.readlines():\n",
    "        the_artist = Artist(artist.rstrip(\"\\n\"))\n",
    "        the_artist.perform_task(write_id=True)"
   ]
  },
  {
   "cell_type": "code",
   "execution_count": 28,
   "metadata": {
    "ExecuteTime": {
     "end_time": "2018-03-02T18:26:03.958864Z",
     "start_time": "2018-03-02T18:26:03.916426Z"
    },
    "scrolled": true
   },
   "outputs": [],
   "source": [
    "def get_percentage(words, total):\n",
    "    return round(words*100/total, 2)\n",
    "\n",
    "def ord_dict(input_dict):\n",
    "    return OrderedDict(sorted(input_dict.items(), key = itemgetter(1), reverse = True))\n",
    "\n",
    "class Lyric_file(object): \n",
    "    the_text = ''\n",
    "    the_list = []\n",
    "    the_counter = {}\n",
    "    the_total = 0\n",
    "    def __init__(self, location):\n",
    "        self.location = location\n",
    "        self.the_text = open(self.location, 'r').read()\n",
    "        self.the_list = self.the_text.split()\n",
    "        self.the_counter = Counter(self.the_list)\n",
    "        self.the_total = len(self.the_list)\n",
    "        \n",
    "    def get_most_common(self, number):\n",
    "        return self.the_counter.most_common(number)\n",
    "    \n",
    "    def get_most_common_percentage(self, number):\n",
    "        result_list = []\n",
    "        for word in self.get_most_common(number):\n",
    "            result_list.append((word[0], get_percentage(word[1], len(self.get_list()))))\n",
    "        return result_list\n",
    "    \n",
    "    def get_percentage_of_word(self, word):\n",
    "        return get_percentage(self.the_counter[word],len(self.the_list))\n",
    "    \n",
    "    def get_vocab_size(self):\n",
    "        return len(self.the_list)/len(self.the_counter)\n",
    "    "
   ]
  },
  {
   "cell_type": "code",
   "execution_count": 10,
   "metadata": {
    "ExecuteTime": {
     "end_time": "2018-03-02T17:04:11.310450Z",
     "start_time": "2018-03-02T17:04:11.230141Z"
    },
    "scrolled": true
   },
   "outputs": [
    {
     "name": "stdout",
     "output_type": "stream",
     "text": [
      "{'T-Fest_lyrics.txt': 5.22,\n",
      " 'pharaoh_lyrics.txt': 4.97,\n",
      " 'Bumble_Beezy_lyrics.txt': 4.14,\n",
      " 'Тимати_lyrics.txt': 3.7,\n",
      " 'Скриптонит_lyrics.txt': 3.28,\n",
      " 'Хаски_lyrics.txt': 3.2,\n",
      " 'ЛСП_lyrics.txt': 2.98,\n",
      " 'guf_lyrics.txt': 2.91,\n",
      " 'Эджей_lyrics.txt': 2.88,\n",
      " 'Грязный_рамирес_lyrics.txt': 2.76,\n",
      " 'макс_корж_lyrics.txt': 2.67,\n",
      " 'Слава_КПСС_lyrics.txt': 2.65,\n",
      " 'SD_aka_Sadist_lyrics.txt': 2.54,\n",
      " 'oxxxymiron_lyrics.txt': 2.53,\n",
      " 'Big_russian_boss_lyrics.txt': 2.46,\n",
      " 'Птаха_lyrics.txt': 2.36,\n",
      " 'rickey_f_lyrics.txt': 2.36,\n",
      " 'Кровосток_lyrics.txt': 2.08,\n",
      " 'Каста_lyrics.txt': 1.85,\n",
      " 'ноггано_lyrics.txt': 1.67,\n",
      " 'ATL_lyrics.txt': 0.0}\n"
     ]
    }
   ],
   "source": [
    "list_tuple = {}\n",
    "for artist in os.listdir('./lyrics/'):\n",
    "    lyric = Lyric_file('./lyrics/' + artist)\n",
    "    list_tuple[artist] = lyric.get_percentage_of_word(\"я\")\n",
    "\n",
    "pprint(ord_dict(list_tuple))"
   ]
  },
  {
   "cell_type": "code",
   "execution_count": 65,
   "metadata": {
    "ExecuteTime": {
     "end_time": "2018-03-02T16:07:36.423857Z",
     "start_time": "2018-03-02T16:07:36.307879Z"
    }
   },
   "outputs": [
    {
     "name": "stdout",
     "output_type": "stream",
     "text": [
      "{'ATL_lyrics.txt': 10.422311827956989,\n",
      " 'T-Fest_lyrics.txt': 4.238836967808931,\n",
      " 'Скриптонит_lyrics.txt': 4.186169134049888,\n",
      " 'pharaoh_lyrics.txt': 4.035280047837353,\n",
      " 'Bumble_Beezy_lyrics.txt': 4.022329589971272,\n",
      " 'ЛСП_lyrics.txt': 3.9103348358016743,\n",
      " 'Тимати_lyrics.txt': 3.746849315068493,\n",
      " 'guf_lyrics.txt': 3.7419499910055767,\n",
      " 'SD_aka_Sadist_lyrics.txt': 3.517179487179487,\n",
      " 'Эджей_lyrics.txt': 3.0998680158380996,\n",
      " 'макс_корж_lyrics.txt': 3.083668543845535,\n",
      " 'Каста_lyrics.txt': 3.0067528458421764,\n",
      " 'Хаски_lyrics.txt': 2.8574816220061656,\n",
      " 'oxxxymiron_lyrics.txt': 2.787449655710017,\n",
      " 'Big_russian_boss_lyrics.txt': 2.757631578947368,\n",
      " 'ноггано_lyrics.txt': 2.6236297198538368,\n",
      " 'Кровосток_lyrics.txt': 2.4446957236842106,\n",
      " 'Грязный_рамирес_lyrics.txt': 2.4247372675828616,\n",
      " 'Слава_КПСС_lyrics.txt': 2.263233190271817,\n",
      " 'Птаха_lyrics.txt': 2.1091617933723197,\n",
      " 'rickey_f_lyrics.txt': 2.1091617933723197}\n"
     ]
    }
   ],
   "source": [
    "list_tuple = {}\n",
    "for artist in os.listdir('./lyrics/'):\n",
    "    lyric = Lyric_file('./lyrics/' + artist)\n",
    "    list_tuple[artist] = lyric.get_vocab_size()\n",
    "pprint(OrderedDict(sorted(list_tuple.items(), key = itemgetter(1), reverse = True)))\n",
    "    "
   ]
  },
  {
   "cell_type": "code",
   "execution_count": 22,
   "metadata": {
    "ExecuteTime": {
     "end_time": "2018-03-02T17:11:18.495610Z",
     "start_time": "2018-03-02T17:11:18.482569Z"
    }
   },
   "outputs": [],
   "source": [
    "list_of_me = ['я', \"мой\", \"моя\", \"мои\", \"меня\", \"мы\", \"наш\"]\n",
    "lyricobj = Lyric_file('./lyrics/guf_lyrics.txt')"
   ]
  },
  {
   "cell_type": "code",
   "execution_count": 23,
   "metadata": {
    "ExecuteTime": {
     "end_time": "2018-03-02T17:11:20.588456Z",
     "start_time": "2018-03-02T17:11:20.583486Z"
    }
   },
   "outputs": [
    {
     "name": "stdout",
     "output_type": "stream",
     "text": [
      "1839\n",
      "41603\n",
      "22.6226209896683\n"
     ]
    }
   ],
   "source": [
    "total = 0\n",
    "for me in list_of_me:\n",
    "    total += lyricobj.the_counter[me]\n",
    "print(total)\n",
    "print(len(lyricobj.the_list))\n",
    "print(len(lyricobj.the_list)/total)"
   ]
  },
  {
   "cell_type": "code",
   "execution_count": 25,
   "metadata": {
    "ExecuteTime": {
     "end_time": "2018-03-02T17:48:45.886721Z",
     "start_time": "2018-03-02T17:48:45.869563Z"
    }
   },
   "outputs": [
    {
     "name": "stdout",
     "output_type": "stream",
     "text": [
      "\n"
     ]
    }
   ],
   "source": [
    "with open('./something.txt', 'r+') as txt:\n",
    "    if \"Hallo\" in txt.read():\n",
    "        txt.write(txt.read() + \"Somethign\\n\")\n",
    "    else:\n",
    "        txt.write(txt.read() + \"Hllo\\n\")\n",
    "    print(txt.read())\n",
    "    "
   ]
  },
  {
   "cell_type": "code",
   "execution_count": 33,
   "metadata": {
    "ExecuteTime": {
     "end_time": "2018-03-02T18:29:51.112957Z",
     "start_time": "2018-03-02T18:29:50.885873Z"
    }
   },
   "outputs": [
    {
     "name": "stdout",
     "output_type": "stream",
     "text": [
      "artists_id_list.txt  Genius_version2.ipynb  README.md\n",
      "artists_source.txt   lyrics\n",
      "\n",
      "oxxxymiron  -  /artists/24422\n",
      "Каспийский груз  -  /artists/1042099\n",
      "guf  -  /artists/34707\n",
      "Грязный рамирес  -  /artists/323240\n",
      "Слава КПСС  -  /artists/1148720\n",
      "ЛСП  -  /artists/143013\n",
      "Скриптонит  -  /artists/154390\n",
      "Каста  -  /artists/234245\n",
      "Кровосток  -  /artists/233193\n",
      "Эджей  -  /artists/662644\n",
      "ATL  -  /artists/68978\n",
      "ноггано  -  /artists/1048629\n",
      "Big russian boss  -  /artists/161760\n",
      "Bumble Beezy  -  /artists/215010\n",
      "Птаха  -  /artists/349224\n",
      "pharaoh  -  /artists/101583\n",
      "макс корж  -  /artists/1050560\n",
      "Тимати  -  /artists/20382\n",
      "T-Fest  -  /artists/1063927\n",
      "SD aka Sadist  -  /artists/1039745\n",
      "Хаски  -  /artists/64942\n",
      "Фэйс  -  /artists/988966"
     ]
    }
   ],
   "source": [
    "!ls\n",
    "!cat artists_id_list.txt"
   ]
  },
  {
   "cell_type": "code",
   "execution_count": null,
   "metadata": {},
   "outputs": [],
   "source": []
  }
 ],
 "metadata": {
  "kernelspec": {
   "display_name": "Python 3",
   "language": "python",
   "name": "python3"
  },
  "language_info": {
   "codemirror_mode": {
    "name": "ipython",
    "version": 3
   },
   "file_extension": ".py",
   "mimetype": "text/x-python",
   "name": "python",
   "nbconvert_exporter": "python",
   "pygments_lexer": "ipython3",
   "version": "3.4.6"
  },
  "varInspector": {
   "cols": {
    "lenName": 16,
    "lenType": 16,
    "lenVar": 40
   },
   "kernels_config": {
    "python": {
     "delete_cmd_postfix": "",
     "delete_cmd_prefix": "del ",
     "library": "var_list.py",
     "varRefreshCmd": "print(var_dic_list())"
    },
    "r": {
     "delete_cmd_postfix": ") ",
     "delete_cmd_prefix": "rm(",
     "library": "var_list.r",
     "varRefreshCmd": "cat(var_dic_list()) "
    }
   },
   "oldHeight": 414,
   "position": {
    "height": "436px",
    "left": "1523px",
    "right": "20px",
    "top": "119px",
    "width": "350px"
   },
   "types_to_exclude": [
    "module",
    "function",
    "builtin_function_or_method",
    "instance",
    "_Feature"
   ],
   "varInspector_section_display": "block",
   "window_display": true
  }
 },
 "nbformat": 4,
 "nbformat_minor": 2
}
